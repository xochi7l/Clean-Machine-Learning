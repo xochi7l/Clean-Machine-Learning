{
 "cells": [
  {
   "cell_type": "markdown",
   "id": "62c24499",
   "metadata": {},
   "source": [
    "# Regression"
   ]
  },
  {
   "cell_type": "code",
   "execution_count": 8,
   "id": "24b7bbed",
   "metadata": {},
   "outputs": [],
   "source": [
    "import pandas as pd\n",
    "from sklearn.utils import resample\n",
    "from sklearn.model_selection import train_test_split\n",
    "from sklearn.preprocessing import StandardScaler\n",
    "from sklearn.linear_model import LogisticRegression\n",
    "from sklearn.metrics import classification_report, accuracy_score, roc_auc_score, confusion_matrix"
   ]
  },
  {
   "cell_type": "code",
   "execution_count": 9,
   "id": "cc93cabc",
   "metadata": {
    "scrolled": true
   },
   "outputs": [
    {
     "name": "stdout",
     "output_type": "stream",
     "text": [
      "      is_clean                                       product_name  \\\n",
      "0            1                        Hydrating Lip Treatment Oil   \n",
      "1            1                  Skin-Enhancing Tinted Moisturizer   \n",
      "2            1   Lash-Amplifying Volumizing & Lengthening Mascara   \n",
      "3            1           Skin Melt Talc-Free Loose Setting Powder   \n",
      "4            1                    Light-Catching Highlighter Balm   \n",
      "...        ...                                                ...   \n",
      "1189         0                  Lash Clash Extreme Volume Mascara   \n",
      "1190         0                     The Bold High Pigment Lipstick   \n",
      "1191         0     NU LIP & CHEEK BALMY TINT with Hyaluronic Acid   \n",
      "1192         0  NU GLOW IN BALM Face Priming Moisturizer with ...   \n",
      "1193         0  NU BLOTTING LOTION Pore Minimizer & Mattifying...   \n",
      "\n",
      "              brand_name  size  loves_count  number_of_reviews  rating  \\\n",
      "0               Ami Colé  0.15        22871                397  4.3401   \n",
      "1               Ami Colé  1.00         6596                240  4.6792   \n",
      "2               Ami Colé  0.30         5015                232  4.4310   \n",
      "3               Ami Colé  0.29         4978                103  4.6117   \n",
      "4               Ami Colé  0.14         3685                 19  4.0526   \n",
      "...                  ...   ...          ...                ...     ...   \n",
      "1189  Yves Saint Laurent  0.30        30837               3024  4.2004   \n",
      "1190  Yves Saint Laurent  0.10        23332               1964  4.5229   \n",
      "1191  Yves Saint Laurent  0.50        14056                335  4.1910   \n",
      "1192  Yves Saint Laurent  1.35        12600                261  4.4904   \n",
      "1193  Yves Saint Laurent  0.80         7764                198  4.4949   \n",
      "\n",
      "     secondary_category       tertiary_category  \\\n",
      "0                   Lip    Lip Balm & Treatment   \n",
      "1                  Face      Tinted Moisturizer   \n",
      "2                   Eye                 Mascara   \n",
      "3                  Face  Setting Spray & Powder   \n",
      "4                  Face             Highlighter   \n",
      "...                 ...                     ...   \n",
      "1189                Eye                 Mascara   \n",
      "1190                Lip                Lipstick   \n",
      "1191              Cheek                   Blush   \n",
      "1192               Face             Face Primer   \n",
      "1193               Face             Face Primer   \n",
      "\n",
      "                                            ingredients  \\\n",
      "0     triisostearoyl polyglyceryl3 dimer dilinoleate...   \n",
      "1     water, isohexadecane, dimethicone, isopropyl i...   \n",
      "2     water, synthetic beeswax, glyceryl stearate, j...   \n",
      "3     synthetic fluorphlogopite, silica, lauroyl lys...   \n",
      "4     diisostearyl malate, octyldodecanol, octyldode...   \n",
      "...                                                 ...   \n",
      "1189  water, acrylatesethylhexyl acrylate copolymer,...   \n",
      "1190  trimethylsiloxyphenyl dimethicone, c1215 alkyl...   \n",
      "1191  capryliccapric triglyceride, ppg5 pentaerythri...   \n",
      "1192  aquawatereau, glycerin, dicaprylyl ether, capr...   \n",
      "1193  aquawatereau, alcohol denat, glycerin, synthet...   \n",
      "\n",
      "                                 ingredient_description  limited_edition  \\\n",
      "0     Baobab Seed Oil Moisturizes and nourishes lips...                0   \n",
      "1     Baobab Seed Extract Hydrates skin,Hibiscus Flo...                0   \n",
      "2     Shea Butter Softens and conditions lashes,Jojo...                0   \n",
      "3     Hyaluronic Acid Retains moisture and visibly e...                0   \n",
      "4     Baobab Seed Oil Hydrates and nourishes skin,,D...                0   \n",
      "...                                                 ...              ...   \n",
      "1189  Water/Aqua, Acrylates/Ethylhexyl Acrylate Copo...                0   \n",
      "1190  Trimethylsiloxyphenyl Dimethicone , C1215 Alky...                0   \n",
      "1191  Hyaluronic Acid Known for hydrating and glowin...                0   \n",
      "1192  Shea Butter Known to help to soften and soothe...                0   \n",
      "1193  Salicylic Acid Known to help improve the appea...                0   \n",
      "\n",
      "      online_only  sephora_exclusive  list_price  \n",
      "0               0                  1        20.0  \n",
      "1               0                  1        32.0  \n",
      "2               0                  1        19.0  \n",
      "3               1                  1        22.0  \n",
      "4               0                  1        22.0  \n",
      "...           ...                ...         ...  \n",
      "1189            0                  0        32.0  \n",
      "1190            0                  0        48.0  \n",
      "1191            0                  1        29.0  \n",
      "1192            0                  1        39.0  \n",
      "1193            0                  1        39.0  \n",
      "\n",
      "[1194 rows x 15 columns]\n",
      "is_clean                    int64\n",
      "product_name               object\n",
      "brand_name                 object\n",
      "size                      float64\n",
      "loves_count                 int64\n",
      "number_of_reviews           int64\n",
      "rating                    float64\n",
      "secondary_category         object\n",
      "tertiary_category          object\n",
      "ingredients                object\n",
      "ingredient_description     object\n",
      "limited_edition             int64\n",
      "online_only                 int64\n",
      "sephora_exclusive           int64\n",
      "list_price                float64\n",
      "dtype: object\n"
     ]
    }
   ],
   "source": [
    "filename = \"cleaned_dataset.csv\"\n",
    "\n",
    "df = pd.read_csv(filename)\n",
    "\n",
    "print(df)\n",
    "print(df.dtypes)"
   ]
  },
  {
   "cell_type": "code",
   "execution_count": 10,
   "id": "eb3b7999",
   "metadata": {},
   "outputs": [
    {
     "name": "stdout",
     "output_type": "stream",
     "text": [
      "0    1001\n",
      "1     193\n",
      "Name: is_clean, dtype: int64\n"
     ]
    }
   ],
   "source": [
    "print(df['is_clean'].value_counts())"
   ]
  },
  {
   "cell_type": "code",
   "execution_count": 11,
   "id": "503b2e68",
   "metadata": {},
   "outputs": [
    {
     "name": "stdout",
     "output_type": "stream",
     "text": [
      "0    1001\n",
      "1    1001\n",
      "Name: is_clean, dtype: int64\n"
     ]
    }
   ],
   "source": [
    "# separate classes\n",
    "df_majority = df[df['is_clean'] == 0]\n",
    "df_minority = df[df['is_clean'] == 1]\n",
    "\n",
    "# upsample minority class\n",
    "df_minority_upsampled = resample(df_minority, \n",
    "                                 replace=True, \n",
    "                                 n_samples=len(df_majority), \n",
    "                                 random_state=42)\n",
    "\n",
    "# combine majority class with upsampled minority class\n",
    "data_upsampled = pd.concat([df_majority, df_minority_upsampled])\n",
    "\n",
    "print(data_upsampled['is_clean'].value_counts())"
   ]
  },
  {
   "cell_type": "code",
   "execution_count": 12,
   "id": "5a95077d",
   "metadata": {},
   "outputs": [
    {
     "name": "stdout",
     "output_type": "stream",
     "text": [
      "size                 float64\n",
      "loves_count            int64\n",
      "number_of_reviews      int64\n",
      "rating               float64\n",
      "list_price           float64\n",
      "dtype: object\n",
      "Accuracy: 0.5910224438902744\n",
      "Confusion Matrix:\n",
      " [[ 87 115]\n",
      " [ 49 150]]\n",
      "\n",
      "Classification Report:\n",
      "               precision    recall  f1-score   support\n",
      "\n",
      "           0       0.64      0.43      0.51       202\n",
      "           1       0.57      0.75      0.65       199\n",
      "\n",
      "    accuracy                           0.59       401\n",
      "   macro avg       0.60      0.59      0.58       401\n",
      "weighted avg       0.60      0.59      0.58       401\n",
      "\n"
     ]
    }
   ],
   "source": [
    "# separate features and target\n",
    "numerical_features = ['size', 'loves_count', 'number_of_reviews', 'rating', 'list_price']\n",
    "print(data_upsampled[numerical_features].dtypes)\n",
    "X = data_upsampled[numerical_features]\n",
    "y = data_upsampled['is_clean']\n",
    "\n",
    "# split the dataset\n",
    "X_train, X_test, y_train, y_test = train_test_split(X, y, test_size=0.2, random_state=42)\n",
    "\n",
    "# scale features\n",
    "scaler = StandardScaler()\n",
    "X_train_scaled = scaler.fit_transform(X_train)\n",
    "X_test_scaled = scaler.transform(X_test)\n",
    "\n",
    "# Logistic Regression\n",
    "clf = LogisticRegression(random_state=42)\n",
    "clf.fit(X_train_scaled, y_train)\n",
    "\n",
    "y_pred = clf.predict(X_test_scaled)\n",
    "conf_matrix = confusion_matrix(y_test, y_pred)\n",
    "class_report = classification_report(y_test, y_pred)\n",
    "\n",
    "print(\"Accuracy:\", accuracy_score(y_test, y_pred))\n",
    "print(\"Confusion Matrix:\\n\", conf_matrix)\n",
    "print(\"\\nClassification Report:\\n\", class_report)"
   ]
  }
 ],
 "metadata": {
  "kernelspec": {
   "display_name": "Python 3 (ipykernel)",
   "language": "python",
   "name": "python3"
  },
  "language_info": {
   "codemirror_mode": {
    "name": "ipython",
    "version": 3
   },
   "file_extension": ".py",
   "mimetype": "text/x-python",
   "name": "python",
   "nbconvert_exporter": "python",
   "pygments_lexer": "ipython3",
   "version": "3.11.3"
  }
 },
 "nbformat": 4,
 "nbformat_minor": 5
}
