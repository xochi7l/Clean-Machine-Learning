{
 "cells": [
  {
   "cell_type": "code",
   "execution_count": 2,
   "id": "9d20ecfa",
   "metadata": {},
   "outputs": [
    {
     "name": "stdout",
     "output_type": "stream",
     "text": [
      "      is_clean  size  loves_count  number_of_reviews  rating  list_price\n",
      "0            1  0.15        22871                397  4.3401        20.0\n",
      "1            1  1.00         6596                240  4.6792        32.0\n",
      "2            1  0.30         5015                232  4.4310        19.0\n",
      "3            1  0.29         4978                103  4.6117        22.0\n",
      "4            1  0.14         3685                 19  4.0526        22.0\n",
      "...        ...   ...          ...                ...     ...         ...\n",
      "1189         0  0.30        30837               3024  4.2004        32.0\n",
      "1190         0  0.10        23332               1964  4.5229        48.0\n",
      "1191         0  0.50        14056                335  4.1910        29.0\n",
      "1192         0  1.35        12600                261  4.4904        39.0\n",
      "1193         0  0.80         7764                198  4.4949        39.0\n",
      "\n",
      "[1194 rows x 6 columns]\n"
     ]
    }
   ],
   "source": [
    "import pandas as pd\n",
    "from sklearn.model_selection import train_test_split\n",
    "from sklearn.ensemble import RandomForestClassifier\n",
    "from sklearn.metrics import classification_report, accuracy_score, confusion_matrix\n",
    "import matplotlib.pyplot as plt\n",
    "import seaborn as sns\n",
    "\n",
    "filename = \"cleaned_dataset.csv\"\n",
    "\n",
    "df = pd.read_csv(filename)\n",
    "\n",
    "print(df[['is_clean','size', 'loves_count', 'number_of_reviews', 'rating', 'list_price']])"
   ]
  },
  {
   "cell_type": "code",
   "execution_count": 14,
   "id": "ba02cdad",
   "metadata": {},
   "outputs": [
    {
     "name": "stdout",
     "output_type": "stream",
     "text": [
      "Sample of training data (X_train):\n",
      "     size  loves_count  number_of_reviews  rating  list_price\n",
      "562  1.00         2031                797  4.2058        34.0\n",
      "999  1.00       121421               3592  4.2511        42.0\n",
      "241  3.00        26172                134  4.3358        28.0\n",
      "640  0.24        49198                507  4.2702        20.0\n",
      "472  0.03        12516                449  3.4232        21.0\n",
      "\n",
      "Sample of testing data (X_test):\n",
      "      size  loves_count  number_of_reviews  rating  list_price\n",
      "135  0.012        24171                220  3.9909        36.0\n",
      "965  0.002        34578                242  4.1860        22.0\n",
      "827  0.230        56904               1736  4.1532        18.0\n",
      "701  0.160        34208                123  4.1382        34.0\n",
      "178  0.080        94789                448  3.8237        35.0\n",
      "Accuracy: 0.8451882845188284\n",
      "Classification Report:\n",
      "              precision    recall  f1-score   support\n",
      "\n",
      "           0       0.85      0.99      0.92       203\n",
      "           1       0.40      0.06      0.10        36\n",
      "\n",
      "    accuracy                           0.85       239\n",
      "   macro avg       0.63      0.52      0.51       239\n",
      "weighted avg       0.79      0.85      0.79       239\n",
      "\n",
      "[[200   3]\n",
      " [ 34   2]]\n"
     ]
    },
    {
     "data": {
      "image/png": "[encoded data removed]",
      "text/plain": [
       "<Figure size 800x600 with 1 Axes>"
      ]
     },
     "metadata": {},
     "output_type": "display_data"
    }
   ],
   "source": [
    "# numeric features for SVM classification\n",
    "features = ['size', 'loves_count', 'number_of_reviews', 'rating', 'list_price']\n",
    "X = df[features]\n",
    "y = df['is_clean']\n",
    "\n",
    "# split the data into training and testing sets\n",
    "X_train, X_test, y_train, y_test = train_test_split(X, y, test_size=0.2, random_state=33)\n",
    "\n",
    "# sample of the training and test data\n",
    "print(\"Sample of training data (X_train):\")\n",
    "print(X_train.head())  #\n",
    "print(\"\\nSample of testing data (X_test):\")\n",
    "print(X_test.head())  \n",
    "\n",
    "# initialize Random Forest Classifier\n",
    "rf_classifier = RandomForestClassifier(n_estimators=100, random_state=33)\n",
    "\n",
    "rf_classifier.fit(X_train, y_train)\n",
    "y_pred = rf_classifier.predict(X_test)\n",
    "\n",
    "\n",
    "\n",
    "accuracy = accuracy_score(y_test, y_pred)\n",
    "print(\"Accuracy:\", accuracy)\n",
    "print(\"Classification Report:\")\n",
    "print(classification_report(y_test, y_pred))\n",
    "confusion = confusion_matrix(y_test, y_pred)\n",
    "print(confusion)\n",
    "\n",
    "cm = confusion_matrix(y_test, y_pred)\n",
    "plt.figure(figsize=(8, 6))\n",
    "ax = sns.heatmap(cm, annot=False, cmap='Blues', xticklabels=['Not Clean', 'Clean'], yticklabels=['Not Clean', 'Clean'], cbar=False)\n",
    "for i in range(2):\n",
    "    for j in range(2):\n",
    "        ax.text(j + 0.5, i + 0.5, f'{cm[i, j]}', ha='center', va='center', fontsize=16, color='black')\n",
    "plt.xlabel('Predicted')\n",
    "plt.ylabel('True')\n",
    "plt.title('Random Forest Confusion Matrix')\n",
    "plt.show()\n"
   ]
  }
 ],
 "metadata": {
  "kernelspec": {
   "display_name": "Python 3 (ipykernel)",
   "language": "python",
   "name": "python3"
  },
  "language_info": {
   "codemirror_mode": {
    "name": "ipython",
    "version": 3
   },
   "file_extension": ".py",
   "mimetype": "text/x-python",
   "name": "python",
   "nbconvert_exporter": "python",
   "pygments_lexer": "ipython3",
   "version": "3.11.3"
  }
 },
 "nbformat": 4,
 "nbformat_minor": 5
}
