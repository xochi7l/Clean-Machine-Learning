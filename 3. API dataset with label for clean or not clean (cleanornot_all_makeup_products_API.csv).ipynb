{
 "cells": [
  {
   "cell_type": "code",
   "execution_count": 1,
   "id": "1e51c60b",
   "metadata": {},
   "outputs": [
    {
     "name": "stdout",
     "output_type": "stream",
     "text": [
      "First few rows of the updated 'All Makeup' DataFrame:\n",
      "  Product ID                                       Product Name  is_clean\n",
      "0    P508264                       Mini Soft Pinch Liquid Blush         0\n",
      "1  P97989778                            Soft Pinch Liquid Blush         0\n",
      "2    P512013                Balm Dotcom Lip Balm and Skin Salve         0\n",
      "3    P468207  Mini Glowy Super Gel Lightweight Dewy Highlighter         1\n",
      "4    P505233                    Honey Infused Hydrating Lip Oil         1\n",
      "Updated 'All Makeup' data with 'is_clean' to cleanornot_all_makeup_products_API.csv\n"
     ]
    }
   ],
   "source": [
    "import pandas as pd\n",
    "\n",
    "all_makeup_csv_file = \"all_product_details.csv\" \n",
    "df_makeup = pd.read_csv(all_makeup_csv_file)\n",
    "\n",
    "clean_makeup_csv_file = \"clean_makeup_product_details.csv\" \n",
    "df_clean_makeup = pd.read_csv(clean_makeup_csv_file)\n",
    "\n",
    "\n",
    "# strip any leading/trailing spaces from column names\n",
    "df_makeup.columns = df_makeup.columns.str.strip()\n",
    "df_clean_makeup.columns = df_clean_makeup.columns.str.strip()\n",
    "\n",
    "\n",
    "clean_product_ids = set(df_clean_makeup['Product ID'])\n",
    "\n",
    "#new binary column 'is_clean'\n",
    "df_makeup['is_clean'] = df_makeup['Product ID'].apply(lambda x: 1 if x in clean_product_ids else 0)\n",
    "\n",
    "\n",
    "print(\"First few rows of the updated 'All Makeup' DataFrame:\")\n",
    "print(df_makeup[['Product ID', 'Product Name', 'is_clean']].head())\n",
    "\n",
    "# Saving the updated DataFrame to a new CSV file\n",
    "updated_makeup_csv_file = \"cleanornot_all_makeup_products_API.csv\"\n",
    "df_makeup.to_csv(updated_makeup_csv_file, index=False)\n",
    "\n",
    "print(f\"Updated 'All Makeup' data with 'is_clean' to {updated_makeup_csv_file}\")\n"
   ]
  },
  {
   "cell_type": "code",
   "execution_count": null,
   "id": "32f6d4c6",
   "metadata": {},
   "outputs": [],
   "source": []
  }
 ],
 "metadata": {
  "kernelspec": {
   "display_name": "Python 3 (ipykernel)",
   "language": "python",
   "name": "python3"
  },
  "language_info": {
   "codemirror_mode": {
    "name": "ipython",
    "version": 3
   },
   "file_extension": ".py",
   "mimetype": "text/x-python",
   "name": "python",
   "nbconvert_exporter": "python",
   "pygments_lexer": "ipython3",
   "version": "3.11.3"
  }
 },
 "nbformat": 4,
 "nbformat_minor": 5
}
