{
 "cells": [
  {
   "cell_type": "code",
   "execution_count": 2,
   "id": "f0ee986c",
   "metadata": {},
   "outputs": [],
   "source": [
    "import pandas as pd\\"
   ]
  },
  {
   "cell_type": "code",
   "execution_count": 11,
   "id": "75365e6c",
   "metadata": {},
   "outputs": [
    {
     "name": "stdout",
     "output_type": "stream",
     "text": [
      "Index(['product_id', 'product_name', 'brand_id', 'brand_name', 'loves_count',\n",
      "       'rating', 'reviews', 'size', 'variation_type', 'variation_value',\n",
      "       'variation_desc', 'ingredients', 'price_usd', 'value_price_usd',\n",
      "       'sale_price_usd', 'limited_edition', 'new', 'online_only',\n",
      "       'out_of_stock', 'sephora_exclusive', 'highlights', 'primary_category',\n",
      "       'secondary_category', 'tertiary_category', 'child_count',\n",
      "       'child_max_price', 'child_min_price', 'Product ID', 'Brand Name',\n",
      "       'Image 11 URL', 'Image 5 URL', 'Image 15 URL', 'Number of Reviews',\n",
      "       'Rating', 'Image 12 URL', 'Image 9 URL', 'Image 4 URL', 'Image 7 URL',\n",
      "       'Image 18 URL', 'Image 17 URL', 'Ingredient Description', 'Image 8 URL',\n",
      "       'Image 13 URL', 'Image 14 URL', 'Full Product URL', 'Image 20 URL',\n",
      "       'Image 10 URL', 'List Price', 'Image 1 URL', 'Image 6 URL',\n",
      "       'Image 3 URL', 'Image 19 URL', 'Size', 'Product Name', 'Image 16 URL',\n",
      "       'Image 2 URL', 'is_clean'],\n",
      "      dtype='object')\n",
      "(1476, 57)\n"
     ]
    }
   ],
   "source": [
    "kaggledf = pd.read_csv('makeup_kaggle.csv')  # Adjust path as needed\n",
    "APIdf = pd.read_csv('cleanornot_all_makeup_products_API.csv')  # Adjust path as needed\n",
    "\n",
    "# Merging the datasets on 'product_id' from kaggledf and 'Product ID' from APIdf\n",
    "merged_df = pd.merge(kaggledf, APIdf, left_on='product_id', right_on='Product ID', how='inner')\n",
    "\n",
    "merged_df.to_csv('unclean_merged_dataset.csv', index=False)  # Save to a new file\n",
    "\n",
    "pd.set_option('display.max_columns', None)\n",
    "print(merged_df.columns) \n",
    "\n",
    "print(merged_df.shape)\n"
   ]
  },
  {
   "cell_type": "code",
   "execution_count": 6,
   "id": "89f55031",
   "metadata": {},
   "outputs": [
    {
     "name": "stdout",
     "output_type": "stream",
     "text": [
      "makeup data has been saved to unclean_cleanornot_APIandKaggle.csv\n"
     ]
    }
   ],
   "source": [
    "#save kaggle all makeup to csv\n",
    "makeup_csv_file = \"unclean_cleanornot_APIandKaggle.csv\"\n",
    "merged_df.to_csv(makeup_csv_file, index=False)\n",
    "\n",
    "print(f\"makeup data has been saved to {makeup_csv_file}\")\n"
   ]
  },
  {
   "cell_type": "code",
   "execution_count": null,
   "id": "ad32584f",
   "metadata": {},
   "outputs": [],
   "source": []
  }
 ],
 "metadata": {
  "kernelspec": {
   "display_name": "Python 3 (ipykernel)",
   "language": "python",
   "name": "python3"
  },
  "language_info": {
   "codemirror_mode": {
    "name": "ipython",
    "version": 3
   },
   "file_extension": ".py",
   "mimetype": "text/x-python",
   "name": "python",
   "nbconvert_exporter": "python",
   "pygments_lexer": "ipython3",
   "version": "3.11.3"
  }
 },
 "nbformat": 4,
 "nbformat_minor": 5
}
